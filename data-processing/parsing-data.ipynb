{
 "cells": [
  {
   "cell_type": "code",
   "execution_count": 224,
   "id": "899d9063",
   "metadata": {},
   "outputs": [
    {
     "data": {
      "text/plain": [
       "['Sticks And Stones', 'You Have My Sword', 'Hedge Fund Plus Plus']"
      ]
     },
     "execution_count": 224,
     "metadata": {},
     "output_type": "execute_result"
    }
   ],
   "source": [
    "new_augments = [' '.join(re.findall('[A-Z][^A-Z]*', augment.split('_', 2)[-1])) for augment in participant['augments']]\n",
    "new_augments"
   ]
  },
  {
   "cell_type": "code",
   "execution_count": 226,
   "id": "0c16556f",
   "metadata": {},
   "outputs": [
    {
     "data": {
      "text/plain": [
       "['Corki',\n",
       " 'KSante',\n",
       " 'Garen',\n",
       " 'Mordekaiser',\n",
       " 'Ekko',\n",
       " 'Riven',\n",
       " 'Caitlyn',\n",
       " 'Blitzcrank',\n",
       " 'Qiyana',\n",
       " 'Kayn',\n",
       " 'Sona']"
      ]
     },
     "execution_count": 226,
     "metadata": {},
     "output_type": "execute_result"
    }
   ],
   "source": [
    "units = []\n",
    "\n",
    "for unit in participant['units']:\n",
    "    character_id = unit['character_id']\n",
    "    underscore_index = character_id.find('_')\n",
    "    if underscore_index != -1:\n",
    "        character_id = character_id[underscore_index + 1:]\n",
    "    units.append(character_id)"
   ]
  },
  {
   "cell_type": "code",
   "execution_count": 364,
   "id": "a403db8f",
   "metadata": {},
   "outputs": [
    {
     "name": "stdout",
     "output_type": "stream",
     "text": [
      "[1, 2, 1, 2, 2, 2, 3, 1, 1, 2, 2]\n"
     ]
    }
   ],
   "source": [
    "tiers = []\n",
    "\n",
    "for unit in participant['units']:\n",
    "    tier = unit.get('tier', None)\n",
    "    if tier is not None:\n",
    "        tiers.append(tier)\n",
    "\n",
    "print(tiers)"
   ]
  },
  {
   "cell_type": "code",
   "execution_count": 393,
   "id": "11a2b409",
   "metadata": {},
   "outputs": [
    {
     "data": {
      "text/plain": [
       "['TFT_Item_UnstableConcoction',\n",
       " 'TFT_Item_SteraksGage',\n",
       " 'TFT_Item_MadredsBloodrazor']"
      ]
     },
     "execution_count": 393,
     "metadata": {},
     "output_type": "execute_result"
    }
   ],
   "source": [
    "participant['units'][5]['itemNames']"
   ]
  },
  {
   "cell_type": "code",
   "execution_count": 375,
   "id": "c705f20d",
   "metadata": {},
   "outputs": [
    {
     "name": "stdout",
     "output_type": "stream",
     "text": [
      "[[], [], [], [], ['Warmogs Armor'], ['Unstable Concoction', 'Steraks Gage', 'Madreds Bloodrazor'], ['Infinity Edge', 'Infinity Edge', 'Spear Of Shojin'], [], ['8 bit Emblem', 'Statikk Shiv'], [], []]\n"
     ]
    }
   ],
   "source": [
    "items = []\n",
    "\n",
    "for unit in participant['units']:\n",
    "    if 'itemNames' in unit:\n",
    "        item_names_list = unit['itemNames']\n",
    "        stripped_item_names = []\n",
    "        for item in item_names_list:\n",
    "            stripped_item_name = item.split('_', 2)[-1]\n",
    "            formatted_item_name = ' '.join(re.findall(r'\\d+|[a-zA-Z][a-z]*', stripped_item_name))\n",
    "            stripped_item_names.append(formatted_item_name)\n",
    "        items.append(stripped_item_names)\n",
    "\n",
    "print(items)\n"
   ]
  }
 ],
 "metadata": {
  "kernelspec": {
   "display_name": "Python 3 (ipykernel)",
   "language": "python",
   "name": "python3"
  },
  "language_info": {
   "codemirror_mode": {
    "name": "ipython",
    "version": 3
   },
   "file_extension": ".py",
   "mimetype": "text/x-python",
   "name": "python",
   "nbconvert_exporter": "python",
   "pygments_lexer": "ipython3",
   "version": "3.9.13"
  }
 },
 "nbformat": 4,
 "nbformat_minor": 5
}
