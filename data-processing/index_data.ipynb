{
 "cells": [
  {
   "cell_type": "markdown",
   "id": "64e14d3c",
   "metadata": {},
   "source": [
    "Now we will explore through the json file and the https://developer.riotgames.com/apis#tft-match-v1/GET_getMatch website, to acquire the data that we need for this project"
   ]
  },
  {
   "cell_type": "code",
   "execution_count": 220,
   "id": "a1acd5af",
   "metadata": {},
   "outputs": [
    {
     "data": {
      "text/plain": [
       "dict_keys(['endOfGameResult', 'gameCreation', 'gameId', 'game_datetime', 'game_length', 'game_version', 'mapId', 'participants', 'queueId', 'queue_id', 'tft_game_type', 'tft_set_core_name', 'tft_set_number'])"
      ]
     },
     "execution_count": 220,
     "metadata": {},
     "output_type": "execute_result"
    }
   ],
   "source": [
    "get_match_data(match_id)['info'].keys()"
   ]
  },
  {
   "cell_type": "code",
   "execution_count": 387,
   "id": "fc862d87",
   "metadata": {},
   "outputs": [],
   "source": [
    "get_match_data(match_id)['info'] ; #Hiding output here too, output is too long for pdf format"
   ]
  },
  {
   "cell_type": "markdown",
   "id": "a2946756",
   "metadata": {},
   "source": [
    "The problem here is that there are 7 participants and we can't manually search for the required username everytime"
   ]
  },
  {
   "cell_type": "code",
   "execution_count": 388,
   "id": "dd55ac99",
   "metadata": {},
   "outputs": [],
   "source": [
    "participant = next((p for p in get_match_data(match_id)['info']['participants'] if p['puuid'] == summoner_data['puuid']), None)\n",
    "participant ;"
   ]
  },
  {
   "cell_type": "code",
   "execution_count": 353,
   "id": "9204f09b",
   "metadata": {},
   "outputs": [
    {
     "data": {
      "text/plain": [
       "[{'name': 'Set10_8Bit',\n",
       "  'num_units': 6,\n",
       "  'style': 3,\n",
       "  'tier_current': 3,\n",
       "  'tier_total': 3},\n",
       " {'name': 'Set10_CrowdDive',\n",
       "  'num_units': 1,\n",
       "  'style': 0,\n",
       "  'tier_current': 0,\n",
       "  'tier_total': 3}]"
      ]
     },
     "execution_count": 353,
     "metadata": {},
     "output_type": "execute_result"
    }
   ],
   "source": [
    "traits_head = participant['traits'][:2]\n",
    "traits_head"
   ]
  },
  {
   "cell_type": "markdown",
   "id": "6af6b6cb",
   "metadata": {},
   "source": [
    "As we can see there are traits with tier_curret = 0, meaning that they are not active, for example for 8 Bit and Crowd Diver"
   ]
  },
  {
   "cell_type": "code",
   "execution_count": 391,
   "id": "37a08422",
   "metadata": {},
   "outputs": [
    {
     "name": "stdout",
     "output_type": "stream",
     "text": [
      "Set10_8Bit , Set10_CrowdDive\n"
     ]
    }
   ],
   "source": [
    "print(participant['traits'][0]['name'],\",\", participant['traits'][1]['name'])"
   ]
  },
  {
   "cell_type": "code",
   "execution_count": 363,
   "id": "828a9039",
   "metadata": {},
   "outputs": [
    {
     "name": "stdout",
     "output_type": "stream",
     "text": [
      "Is 8 Bit active? True \n",
      "Is Crowd Diver active ? False\n"
     ]
    }
   ],
   "source": [
    "print(\"Is 8 Bit active?\", participant['traits'][0]['tier_current'] > 1,\n",
    "      \"\\nIs Crowd Diver active ?\", participant['traits'][1]['tier_current'] > 1)"
   ]
  },
  {
   "cell_type": "code",
   "execution_count": 223,
   "id": "845361c2",
   "metadata": {},
   "outputs": [
    {
     "data": {
      "text/plain": [
       "['TFT10_Augment_SticksAndStones',\n",
       " 'TFT9_Augment_YouHaveMySword',\n",
       " 'TFT9_Augment_HedgeFundPlusPlus']"
      ]
     },
     "execution_count": 223,
     "metadata": {},
     "output_type": "execute_result"
    }
   ],
   "source": [
    "participant['augments']"
   ]
  }
 ],
 "metadata": {
  "kernelspec": {
   "display_name": "Python 3 (ipykernel)",
   "language": "python",
   "name": "python3"
  },
  "language_info": {
   "codemirror_mode": {
    "name": "ipython",
    "version": 3
   },
   "file_extension": ".py",
   "mimetype": "text/x-python",
   "name": "python",
   "nbconvert_exporter": "python",
   "pygments_lexer": "ipython3",
   "version": "3.9.13"
  }
 },
 "nbformat": 4,
 "nbformat_minor": 5
}
