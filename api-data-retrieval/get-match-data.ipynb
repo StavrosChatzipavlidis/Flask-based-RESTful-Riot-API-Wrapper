{
 "cells": [
  {
   "cell_type": "code",
   "execution_count": 386,
   "id": "1c2b26c8",
   "metadata": {},
   "outputs": [],
   "source": [
    "def get_match_data(matchid):\n",
    "    url = f'https://europe.api.riotgames.com/tft/match/v1/matches/{matchid}'\n",
    "    \n",
    "    headers = {\n",
    "        'X-Riot-Token': API_KEY\n",
    "    }\n",
    "    \n",
    "    response = requests.get(url, headers=headers)\n",
    "    \n",
    "    if response.status_code == 200:\n",
    "        return response.json()\n",
    "    else:\n",
    "        print('Error:', response.status_code)\n",
    "        print('Response Content:', response.text)\n",
    "        return None\n",
    "\n",
    "get_match_data(match_id) ; #Hide output"
   ]
  },
  {
   "cell_type": "markdown",
   "id": "6dc2b62f",
   "metadata": {},
   "source": [
    "We will use my last game as an example here and save it into match_id to get the specific data from that match"
   ]
  },
  {
   "cell_type": "code",
   "execution_count": 232,
   "id": "0683a3a2",
   "metadata": {},
   "outputs": [],
   "source": [
    "match_ids = get_match_ids(puuid)\n",
    "match_id = get_match_ids(puuid)[0]"
   ]
  }
 ],
 "metadata": {
  "kernelspec": {
   "display_name": "Python 3 (ipykernel)",
   "language": "python",
   "name": "python3"
  },
  "language_info": {
   "codemirror_mode": {
    "name": "ipython",
    "version": 3
   },
   "file_extension": ".py",
   "mimetype": "text/x-python",
   "name": "python",
   "nbconvert_exporter": "python",
   "pygments_lexer": "ipython3",
   "version": "3.9.13"
  }
 },
 "nbformat": 4,
 "nbformat_minor": 5
}
