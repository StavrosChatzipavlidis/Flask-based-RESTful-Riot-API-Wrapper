{
 "cells": [
  {
   "cell_type": "markdown",
   "id": "64560f46",
   "metadata": {},
   "source": [
    "**Remember! Do not share any of your API keys with anyone.**"
   ]
  },
  {
   "cell_type": "code",
   "execution_count": 236,
   "id": "5fff476e",
   "metadata": {},
   "outputs": [],
   "source": [
    "API_KEY = 'RGAPI-1d10a965-1ab1-41fa-ac75-e98fa9f75295'"
   ]
  },
  {
   "cell_type": "markdown",
   "id": "3b9b5919",
   "metadata": {},
   "source": [
    "We will first acquire the summoner puuid"
   ]
  },
  {
   "cell_type": "code",
   "execution_count": 101,
   "id": "34aab725",
   "metadata": {},
   "outputs": [
    {
     "data": {
      "text/plain": [
       "{'id': 'qohtcYP9g75thCs2eWQcywGHry6NbwH7FwzAoBT2Qkh1fX8',\n",
       " 'accountId': 'yjcPqMaOSPuEs8PVOJ5L14_bZ6wCcSWmdYmdIpNp4xQOiA',\n",
       " 'puuid': 'mn2BbUNLWkpzuHpSMRRbO2gC_3KbwxqXtLljkwl-I6SCLkYV5icjPl_oMm_rI9OQlTd-LjNGk6ZVlQ',\n",
       " 'name': 'Ariel Ibagaza 7',\n",
       " 'profileIconId': 1665,\n",
       " 'revisionDate': 1710037051000,\n",
       " 'summonerLevel': 121}"
      ]
     },
     "execution_count": 101,
     "metadata": {},
     "output_type": "execute_result"
    }
   ],
   "source": [
    "def get_summoner_data(summoner_name):\n",
    "    url = f'https://eun1.api.riotgames.com/tft/summoner/v1/summoners/by-name/{summoner_name}'\n",
    "    \n",
    "    headers = {'X-Riot-Token': API_KEY}\n",
    "    \n",
    "    response = requests.get(url, headers=headers)\n",
    "    \n",
    "    if response.status_code == 200:\n",
    "        return response.json()\n",
    "    else:\n",
    "        print('Error:', response.status_code)\n",
    "        return None\n",
    "    \n",
    "summoner_data = get_summoner_data('Ariel%20Ibagaza%207')\n",
    "summoner_data"
   ]
  },
  {
   "cell_type": "code",
   "execution_count": 96,
   "id": "63a51c45",
   "metadata": {},
   "outputs": [
    {
     "data": {
      "text/plain": [
       "'mn2BbUNLWkpzuHpSMRRbO2gC_3KbwxqXtLljkwl-I6SCLkYV5icjPl_oMm_rI9OQlTd-LjNGk6ZVlQ'"
      ]
     },
     "execution_count": 96,
     "metadata": {},
     "output_type": "execute_result"
    }
   ],
   "source": [
    "puuid = summoner_data['puuid']"
   ]
  }
 ],
 "metadata": {
  "kernelspec": {
   "display_name": "Python 3 (ipykernel)",
   "language": "python",
   "name": "python3"
  },
  "language_info": {
   "codemirror_mode": {
    "name": "ipython",
    "version": 3
   },
   "file_extension": ".py",
   "mimetype": "text/x-python",
   "name": "python",
   "nbconvert_exporter": "python",
   "pygments_lexer": "ipython3",
   "version": "3.9.13"
  }
 },
 "nbformat": 4,
 "nbformat_minor": 5
}
